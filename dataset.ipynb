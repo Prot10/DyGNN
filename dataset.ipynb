{
 "cells": [
  {
   "cell_type": "code",
   "execution_count": 1,
   "metadata": {},
   "outputs": [
    {
     "name": "stderr",
     "output_type": "stream",
     "text": [
      "Processing JSON Data: 100%|██████████| 1000/1000 [00:00<00:00, 15956.84it/s]"
     ]
    },
    {
     "name": "stdout",
     "output_type": "stream",
     "text": [
      "(535, 11)\n"
     ]
    },
    {
     "name": "stderr",
     "output_type": "stream",
     "text": [
      "\n"
     ]
    },
    {
     "data": {
      "text/html": [
       "<div>\n",
       "<style scoped>\n",
       "    .dataframe tbody tr th:only-of-type {\n",
       "        vertical-align: middle;\n",
       "    }\n",
       "\n",
       "    .dataframe tbody tr th {\n",
       "        vertical-align: top;\n",
       "    }\n",
       "\n",
       "    .dataframe thead th {\n",
       "        text-align: right;\n",
       "    }\n",
       "</style>\n",
       "<table border=\"1\" class=\"dataframe\">\n",
       "  <thead>\n",
       "    <tr style=\"text-align: right;\">\n",
       "      <th></th>\n",
       "      <th>id</th>\n",
       "      <th>title</th>\n",
       "      <th>keywords</th>\n",
       "      <th>year</th>\n",
       "      <th>n_citation</th>\n",
       "      <th>abstract</th>\n",
       "      <th>doc_type</th>\n",
       "      <th>author_ids</th>\n",
       "      <th>author_names</th>\n",
       "      <th>author_orgs</th>\n",
       "      <th>references</th>\n",
       "    </tr>\n",
       "  </thead>\n",
       "  <tbody>\n",
       "    <tr>\n",
       "      <th>0</th>\n",
       "      <td>53e99784b7602d9701f3ffdd</td>\n",
       "      <td>Flow.</td>\n",
       "      <td>[]</td>\n",
       "      <td>2006</td>\n",
       "      <td>15</td>\n",
       "      <td></td>\n",
       "      <td>Conference</td>\n",
       "      <td>[53f43776dabfaee0d9b6e75b]</td>\n",
       "      <td>[Masa Inakage]</td>\n",
       "      <td>[]</td>\n",
       "      <td>NaN</td>\n",
       "    </tr>\n",
       "    <tr>\n",
       "      <th>1</th>\n",
       "      <td>53e99785b7602d9701f414cb</td>\n",
       "      <td>Drift</td>\n",
       "      <td>[]</td>\n",
       "      <td>2004</td>\n",
       "      <td>0</td>\n",
       "      <td></td>\n",
       "      <td>Conference</td>\n",
       "      <td>[53f433e6dabfaeee229920b6]</td>\n",
       "      <td>[Justin Booth-Clibborn]</td>\n",
       "      <td>[New York, New York]</td>\n",
       "      <td>NaN</td>\n",
       "    </tr>\n",
       "    <tr>\n",
       "      <th>2</th>\n",
       "      <td>53e99785b7602d9701f427df</td>\n",
       "      <td>Estate</td>\n",
       "      <td>[]</td>\n",
       "      <td>2004</td>\n",
       "      <td>0</td>\n",
       "      <td></td>\n",
       "      <td>Conference</td>\n",
       "      <td>[53f460a7dabfaee4dc83702a]</td>\n",
       "      <td>[Greg Daville]</td>\n",
       "      <td>[Hove East Sussex, United Kingdom]</td>\n",
       "      <td>NaN</td>\n",
       "    </tr>\n",
       "    <tr>\n",
       "      <th>3</th>\n",
       "      <td>53e99785b7602d9701f4283f</td>\n",
       "      <td>Express</td>\n",
       "      <td>[famous Japanese story, best friend, Galactic ...</td>\n",
       "      <td>2013</td>\n",
       "      <td>656</td>\n",
       "      <td>The story is a sequel of a famous Japanese sto...</td>\n",
       "      <td>Conference</td>\n",
       "      <td>[53f47148dabfaec09f269c9e]</td>\n",
       "      <td>[Kohta Morie]</td>\n",
       "      <td>[Transistor Studio, Japan]</td>\n",
       "      <td>NaN</td>\n",
       "    </tr>\n",
       "    <tr>\n",
       "      <th>4</th>\n",
       "      <td>53e99785b7602d9701f43f95</td>\n",
       "      <td>Bookshelf</td>\n",
       "      <td>[415, 460,  P.K.,  Volume 4: Anticipating Chan...</td>\n",
       "      <td>2004</td>\n",
       "      <td>0</td>\n",
       "      <td>Reviewed: Succeeding with Open Source Quality ...</td>\n",
       "      <td>Journal</td>\n",
       "      <td>[53f4c61fdabfaee57b77b3cf, 53f388cbdabfae4b34a...</td>\n",
       "      <td>[Terry Bollinger, Mike Barker, Philipp K. Janert]</td>\n",
       "      <td>[, , ]</td>\n",
       "      <td>NaN</td>\n",
       "    </tr>\n",
       "  </tbody>\n",
       "</table>\n",
       "</div>"
      ],
      "text/plain": [
       "                         id      title  \\\n",
       "0  53e99784b7602d9701f3ffdd      Flow.   \n",
       "1  53e99785b7602d9701f414cb      Drift   \n",
       "2  53e99785b7602d9701f427df     Estate   \n",
       "3  53e99785b7602d9701f4283f    Express   \n",
       "4  53e99785b7602d9701f43f95  Bookshelf   \n",
       "\n",
       "                                            keywords  year  n_citation  \\\n",
       "0                                                 []  2006          15   \n",
       "1                                                 []  2004           0   \n",
       "2                                                 []  2004           0   \n",
       "3  [famous Japanese story, best friend, Galactic ...  2013         656   \n",
       "4  [415, 460,  P.K.,  Volume 4: Anticipating Chan...  2004           0   \n",
       "\n",
       "                                            abstract    doc_type  \\\n",
       "0                                                     Conference   \n",
       "1                                                     Conference   \n",
       "2                                                     Conference   \n",
       "3  The story is a sequel of a famous Japanese sto...  Conference   \n",
       "4  Reviewed: Succeeding with Open Source Quality ...     Journal   \n",
       "\n",
       "                                          author_ids  \\\n",
       "0                         [53f43776dabfaee0d9b6e75b]   \n",
       "1                         [53f433e6dabfaeee229920b6]   \n",
       "2                         [53f460a7dabfaee4dc83702a]   \n",
       "3                         [53f47148dabfaec09f269c9e]   \n",
       "4  [53f4c61fdabfaee57b77b3cf, 53f388cbdabfae4b34a...   \n",
       "\n",
       "                                        author_names  \\\n",
       "0                                     [Masa Inakage]   \n",
       "1                            [Justin Booth-Clibborn]   \n",
       "2                                     [Greg Daville]   \n",
       "3                                      [Kohta Morie]   \n",
       "4  [Terry Bollinger, Mike Barker, Philipp K. Janert]   \n",
       "\n",
       "                          author_orgs references  \n",
       "0                                  []        NaN  \n",
       "1                [New York, New York]        NaN  \n",
       "2  [Hove East Sussex, United Kingdom]        NaN  \n",
       "3          [Transistor Studio, Japan]        NaN  \n",
       "4                              [, , ]        NaN  "
      ]
     },
     "metadata": {},
     "output_type": "display_data"
    }
   ],
   "source": [
    "import ijson\n",
    "import pandas as pd\n",
    "from tqdm import tqdm\n",
    "import matplotlib.pyplot as plt\n",
    "\n",
    "file_path = 'Data/dblp_v14.json'\n",
    "\n",
    "# Le chiavi da estrarre\n",
    "keys_to_extract = ['id', 'title', 'keywords', 'year', 'n_citation', 'abstract', 'authors', 'doc_type', 'references']\n",
    "\n",
    "# Function to extract and rename fields from authors\n",
    "def extract_author_fields(authors_list):\n",
    "    if not authors_list:\n",
    "        return None, None, None\n",
    "    author_ids = []\n",
    "    author_names = []\n",
    "    author_orgs = []\n",
    "    for author in authors_list:\n",
    "        author_ids.append(author.get('id', None))\n",
    "        author_names.append(author.get('name', None))\n",
    "        author_orgs.append(author.get('org', None))\n",
    "    return author_ids, author_names, author_orgs\n",
    "\n",
    "# Open the JSON file\n",
    "with open(file_path, 'r') as f:\n",
    "    # Iterate over objects in the JSON file\n",
    "    objects = ijson.items(f, 'item')\n",
    "    \n",
    "    # Read only the first N objects\n",
    "    N = 10000\n",
    "    partial_data = []\n",
    "    for _, obj in tqdm(zip(range(N), objects), total=N, desc=\"Processing JSON Data\"):\n",
    "        filtered_obj = {k: obj[k] for k in keys_to_extract if k in obj}\n",
    "        \n",
    "        if 'year' in filtered_obj and filtered_obj['year'] >= 2010:\n",
    "            \n",
    "            # if 'keywords' in filtered_obj and not filtered_obj['keywords']:\n",
    "            #     filtered_obj['keywords'] = None\n",
    "            \n",
    "            if 'authors' in filtered_obj:\n",
    "                author_ids, author_names, author_orgs = extract_author_fields(filtered_obj['authors'])\n",
    "                filtered_obj['author_ids'] = author_ids if author_ids else None\n",
    "                filtered_obj['author_names'] = author_names if author_names else None\n",
    "                filtered_obj['author_orgs'] = author_orgs if author_orgs else None\n",
    "                del filtered_obj['authors']\n",
    "            \n",
    "            partial_data.append(filtered_obj)\n",
    "\n",
    "# Create a DataFrame from partial_data\n",
    "df = pd.DataFrame(partial_data)\n",
    "\n",
    "# Example usage of the DataFrame\n",
    "print(df.shape)\n",
    "display(df.head())\n",
    "\n",
    "# Save the DataFrame to a CSV file\n",
    "# df.to_csv('processed_data.csv', index=False)"
   ]
  },
  {
   "cell_type": "code",
   "execution_count": 2,
   "metadata": {},
   "outputs": [
    {
     "data": {
      "image/png": "[encoded data removed]",
      "text/plain": [
       "<Figure size 1000x600 with 1 Axes>"
      ]
     },
     "metadata": {},
     "output_type": "display_data"
    }
   ],
   "source": [
    "import matplotlib.pyplot as plt\n",
    "\n",
    "# Create a histogram of the distribution of years\n",
    "plt.figure(figsize=(10, 6))\n",
    "df['year'].dropna().astype(int).hist(bins=20)\n",
    "plt.title('Distribution of Publication Years from 2000 onwards')\n",
    "plt.xlabel('Year')\n",
    "plt.ylabel('Number of Publications')\n",
    "plt.grid(False)\n",
    "plt.show()"
   ]
  },
  {
   "cell_type": "code",
   "execution_count": 3,
   "metadata": {},
   "outputs": [
    {
     "name": "stderr",
     "output_type": "stream",
     "text": [
      "/Users/andrea/miniforge3/envs/dygnn/lib/python3.12/site-packages/tqdm/auto.py:21: TqdmWarning: IProgress not found. Please update jupyter and ipywidgets. See https://ipywidgets.readthedocs.io/en/stable/user_install.html\n",
      "  from .autonotebook import tqdm as notebook_tqdm\n"
     ]
    },
    {
     "name": "stdout",
     "output_type": "stream",
     "text": [
      "Using device: mps\n",
      "Computing BERT embeddings for title...\n",
      "Computing BERT embeddings for abstract...\n",
      "Computing BERT embeddings for keywords...\n",
      "Done!\n",
      "(535, 2308)\n"
     ]
    }
   ],
   "source": [
    "# TODO: unire in un unico campo 'title', 'abstract' e 'keywords'\n",
    "# TODO: aggiungere info su autori e organizzazioni\n",
    "\n",
    "from transformers import BertTokenizer, BertModel\n",
    "import torch\n",
    "from sklearn.preprocessing import OneHotEncoder, StandardScaler\n",
    "import numpy as np\n",
    "\n",
    "# Load pre-trained BERT model and tokenizer\n",
    "device = torch.device('mps') if torch.backends.mps.is_available() else torch.device('cpu')\n",
    "print(f'Using device: {device}')\n",
    "tokenizer = BertTokenizer.from_pretrained('bert-base-uncased')\n",
    "model = BertModel.from_pretrained('bert-base-uncased').to(device)\n",
    "\n",
    "# Function to get BERT embeddings\n",
    "def get_bert_embeddings(texts):\n",
    "    inputs = tokenizer(texts, return_tensors='pt', padding=True, truncation=True, max_length=128).to(device)\n",
    "    with torch.no_grad():\n",
    "        outputs = model(**inputs)\n",
    "    return outputs.last_hidden_state.mean(dim=1).cpu().numpy()\n",
    "\n",
    "# Apply BERT embeddings to 'title', 'abstract', 'keywords'\n",
    "df['title'] = df['title'].fillna('')\n",
    "df['abstract'] = df['abstract'].fillna('')\n",
    "df['keywords'] = df['keywords'].fillna('').apply(lambda x: ' '.join(x) if isinstance(x, list) else '')\n",
    "\n",
    "print('Computing BERT embeddings for title...')\n",
    "title_embeddings = np.vstack(df['title'].apply(get_bert_embeddings).values)\n",
    "print('Computing BERT embeddings for abstract...')\n",
    "abstract_embeddings = np.vstack(df['abstract'].apply(get_bert_embeddings).values)\n",
    "print('Computing BERT embeddings for keywords...')\n",
    "keywords_embeddings = np.vstack(df['keywords'].apply(get_bert_embeddings).values)\n",
    "print('Done!')\n",
    "\n",
    "# One-Hot Encoding for 'doc_type'\n",
    "one_hot_encoder = OneHotEncoder(sparse_output=False)\n",
    "doc_type_one_hot = one_hot_encoder.fit_transform(df[['doc_type']].fillna(''))\n",
    "\n",
    "# Normalize 'year' and 'n_citation'\n",
    "scaler = StandardScaler()\n",
    "year_scaled = scaler.fit_transform(df[['year']].fillna(2000))  # Assuming a default year of 2000\n",
    "citation_scaled = scaler.fit_transform(df[['n_citation']].fillna(0))  # Assuming a default citation count of 0\n",
    "\n",
    "# Combine all features\n",
    "features = np.hstack((title_embeddings, abstract_embeddings, keywords_embeddings, doc_type_one_hot, year_scaled, citation_scaled))\n",
    "\n",
    "# Example usage of the DataFrame\n",
    "print(features.shape)  # Should print the shape of the feature matrix"
   ]
  },
  {
   "cell_type": "code",
   "execution_count": 4,
   "metadata": {},
   "outputs": [
    {
     "data": {
      "text/plain": [
       "array([[1., 0.],\n",
       "       [1., 0.],\n",
       "       [1., 0.],\n",
       "       ...,\n",
       "       [0., 1.],\n",
       "       [1., 0.],\n",
       "       [1., 0.]])"
      ]
     },
     "execution_count": 4,
     "metadata": {},
     "output_type": "execute_result"
    }
   ],
   "source": [
    "doc_type_one_hot"
   ]
  },
  {
   "cell_type": "code",
   "execution_count": 6,
   "metadata": {},
   "outputs": [
    {
     "data": {
      "text/plain": [
       "(535, 768)"
      ]
     },
     "execution_count": 6,
     "metadata": {},
     "output_type": "execute_result"
    }
   ],
   "source": [
    "title_embeddings.shape"
   ]
  },
  {
   "cell_type": "code",
   "execution_count": null,
   "metadata": {},
   "outputs": [],
   "source": []
  }
 ],
 "metadata": {
  "kernelspec": {
   "display_name": "dygnn",
   "language": "python",
   "name": "python3"
  },
  "language_info": {
   "codemirror_mode": {
    "name": "ipython",
    "version": 3
   },
   "file_extension": ".py",
   "mimetype": "text/x-python",
   "name": "python",
   "nbconvert_exporter": "python",
   "pygments_lexer": "ipython3",
   "version": "3.12.3"
  }
 },
 "nbformat": 4,
 "nbformat_minor": 2
}
